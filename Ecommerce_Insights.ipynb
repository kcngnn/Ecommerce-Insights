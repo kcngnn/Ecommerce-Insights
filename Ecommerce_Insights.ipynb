{
 "cells": [
  {
   "cell_type": "markdown",
   "metadata": {},
   "source": [
    "# Ecommerce Insights for Marketing Decisions\n",
    "**Data Description:** The dataset includes purchase details on an ecommerce platform. Orer details include invoice number, invoice date, product code and description, order quantity, unit price, customer id, customer country, and channel that direct the sales.\n",
    "\n",
    "**Objective:** The ultimate goal is to get valuable insights into customer profiles so that the company can make appropriate promotion efforts towards specific groups of customers to drive sales. In order to meet with this objective, I would perform the following analyses: <br/>\n",
    "- Measure Important Ecommerce Metrics\n",
    "- Define Customer Clusters\n",
    "- Predict the Possibility of Repurchase Within 3 Months"
   ]
  },
  {
   "cell_type": "markdown",
   "metadata": {},
   "source": [
    "### Cleaning the Dataset\n",
    "First, I cleaned the dataset and understood characteristics of the dataset to have appropriate preprocessing ways."
   ]
  },
  {
   "cell_type": "code",
   "execution_count": 6,
   "metadata": {},
   "outputs": [],
   "source": [
    "# Import necessary packages\n",
    "import pandas as pd\n",
    "import numpy as np\n",
    "import seaborn as sns\n",
    "import matplotlib.pyplot as plt\n",
    "import plotly.express as px\n",
    "import datetime\n",
    "\n",
    "from sklearn.model_selection import train_test_split  \n",
    "from sklearn.model_selection import KFold, cross_val_score\n",
    "import xgboost as xgb\n",
    "from sklearn.svm import SVC\n",
    "from sklearn.multioutput import MultiOutputClassifier\n",
    "from sklearn.ensemble import GradientBoostingClassifier\n",
    "from sklearn.tree import DecisionTreeClassifier\n",
    "from sklearn.neighbors import KNeighborsClassifier\n",
    "from sklearn.naive_bayes import GaussianNB\n",
    "from sklearn.ensemble import RandomForestClassifier\n",
    "from sklearn.linear_model import LogisticRegression\n",
    "from sklearn.metrics import confusion_matrix"
   ]
  },
  {
   "cell_type": "code",
   "execution_count": 7,
   "metadata": {},
   "outputs": [
    {
     "name": "stdout",
     "output_type": "stream",
     "text": [
      "(541909, 9)\n"
     ]
    },
    {
     "data": {
      "text/html": [
       "<div>\n",
       "<style scoped>\n",
       "    .dataframe tbody tr th:only-of-type {\n",
       "        vertical-align: middle;\n",
       "    }\n",
       "\n",
       "    .dataframe tbody tr th {\n",
       "        vertical-align: top;\n",
       "    }\n",
       "\n",
       "    .dataframe thead th {\n",
       "        text-align: right;\n",
       "    }\n",
       "</style>\n",
       "<table border=\"1\" class=\"dataframe\">\n",
       "  <thead>\n",
       "    <tr style=\"text-align: right;\">\n",
       "      <th></th>\n",
       "      <th>InvoiceNo</th>\n",
       "      <th>StockCode</th>\n",
       "      <th>Description</th>\n",
       "      <th>Quantity</th>\n",
       "      <th>InvoiceDate</th>\n",
       "      <th>UnitPrice</th>\n",
       "      <th>CustomerID</th>\n",
       "      <th>Country</th>\n",
       "      <th>channel</th>\n",
       "    </tr>\n",
       "  </thead>\n",
       "  <tbody>\n",
       "    <tr>\n",
       "      <th>0</th>\n",
       "      <td>536365</td>\n",
       "      <td>85123A</td>\n",
       "      <td>WHITE HANGING HEART T-LIGHT HOLDER</td>\n",
       "      <td>6</td>\n",
       "      <td>12/1/2010 8:26</td>\n",
       "      <td>2.55</td>\n",
       "      <td>17850.0</td>\n",
       "      <td>United Kingdom</td>\n",
       "      <td>Email</td>\n",
       "    </tr>\n",
       "    <tr>\n",
       "      <th>1</th>\n",
       "      <td>536365</td>\n",
       "      <td>71053</td>\n",
       "      <td>WHITE METAL LANTERN</td>\n",
       "      <td>6</td>\n",
       "      <td>12/1/2010 8:26</td>\n",
       "      <td>3.39</td>\n",
       "      <td>17850.0</td>\n",
       "      <td>United Kingdom</td>\n",
       "      <td>Email</td>\n",
       "    </tr>\n",
       "  </tbody>\n",
       "</table>\n",
       "</div>"
      ],
      "text/plain": [
       "  InvoiceNo StockCode                         Description  Quantity  \\\n",
       "0    536365    85123A  WHITE HANGING HEART T-LIGHT HOLDER         6   \n",
       "1    536365     71053                 WHITE METAL LANTERN         6   \n",
       "\n",
       "      InvoiceDate  UnitPrice  CustomerID         Country channel  \n",
       "0  12/1/2010 8:26       2.55     17850.0  United Kingdom   Email  \n",
       "1  12/1/2010 8:26       3.39     17850.0  United Kingdom   Email  "
      ]
     },
     "execution_count": 7,
     "metadata": {},
     "output_type": "execute_result"
    }
   ],
   "source": [
    "# Import data and show sample data\n",
    "data = pd.read_csv(\"ecommerce_data.csv\")\n",
    "print(data.shape)\n",
    "data.head(2)"
   ]
  },
  {
   "cell_type": "code",
   "execution_count": 8,
   "metadata": {},
   "outputs": [
    {
     "name": "stdout",
     "output_type": "stream",
     "text": [
      "<class 'pandas.core.frame.DataFrame'>\n",
      "RangeIndex: 541909 entries, 0 to 541908\n",
      "Data columns (total 9 columns):\n",
      " #   Column       Non-Null Count   Dtype  \n",
      "---  ------       --------------   -----  \n",
      " 0   InvoiceNo    541909 non-null  object \n",
      " 1   StockCode    541909 non-null  object \n",
      " 2   Description  540455 non-null  object \n",
      " 3   Quantity     541909 non-null  int64  \n",
      " 4   InvoiceDate  541909 non-null  object \n",
      " 5   UnitPrice    541909 non-null  float64\n",
      " 6   CustomerID   406829 non-null  float64\n",
      " 7   Country      541909 non-null  object \n",
      " 8   channel      541909 non-null  object \n",
      "dtypes: float64(2), int64(1), object(6)\n",
      "memory usage: 37.2+ MB\n"
     ]
    }
   ],
   "source": [
    "# Check data information\n",
    "data.info()"
   ]
  },
  {
   "cell_type": "markdown",
   "metadata": {},
   "source": [
    "Two columns of `Description` and `CustomerID` have null values. Null values in `Description` columns can be ignored because they can be matched with `StockCode`. Concerning `CustomerID`, though percentage of null values in this column is 25% - a high rate, null values have to be removed for analyses that utilize this information. Values in this column cannot be replaced or guessed using any methods.\n",
    "\n",
    "I also checked for duplicates in the dataset. Typically, in a cart on an ecommerce platform, customers cannot add two lines for the same product. However, in this dataset, over 5,000 order lines have all the same details including invoice information, product code, and order quantity, and another 5,000 order lines have the same invoice information, and product code (but different order quantity). With limited information on how the data is extracted from system, I would not remove any duplicates and proceed with all the data.\n",
    "\n",
    "As can be seen from the information above, `InvoiceDate` and `CustomerID` have wrong data format - should be datetime and string format respectively. I would convert data type of these two columns."
   ]
  },
  {
   "cell_type": "code",
   "execution_count": 9,
   "metadata": {},
   "outputs": [],
   "source": [
    "# Format InvoiceDate as datetime and CustomerID as string\n",
    "# Only convert non-null CustomerID values to string\n",
    "data['InvoiceDate'] = pd.to_datetime(data['InvoiceDate'])\n",
    "data['CustomerID'] = data['CustomerID'].where(data['CustomerID'].isnull(), data['CustomerID'].astype(str))"
   ]
  },
  {
   "cell_type": "code",
   "execution_count": 10,
   "metadata": {},
   "outputs": [
    {
     "name": "stdout",
     "output_type": "stream",
     "text": [
      "Period range is from 2010-12-01 08:26:00 to 2011-12-09 12:50:00\n"
     ]
    },
    {
     "data": {
      "text/html": [
       "<div>\n",
       "<style scoped>\n",
       "    .dataframe tbody tr th:only-of-type {\n",
       "        vertical-align: middle;\n",
       "    }\n",
       "\n",
       "    .dataframe tbody tr th {\n",
       "        vertical-align: top;\n",
       "    }\n",
       "\n",
       "    .dataframe thead th {\n",
       "        text-align: right;\n",
       "    }\n",
       "</style>\n",
       "<table border=\"1\" class=\"dataframe\">\n",
       "  <thead>\n",
       "    <tr style=\"text-align: right;\">\n",
       "      <th></th>\n",
       "      <th>Quantity</th>\n",
       "      <th>UnitPrice</th>\n",
       "    </tr>\n",
       "  </thead>\n",
       "  <tbody>\n",
       "    <tr>\n",
       "      <th>count</th>\n",
       "      <td>541909.000000</td>\n",
       "      <td>541909.000000</td>\n",
       "    </tr>\n",
       "    <tr>\n",
       "      <th>mean</th>\n",
       "      <td>9.552250</td>\n",
       "      <td>4.611114</td>\n",
       "    </tr>\n",
       "    <tr>\n",
       "      <th>std</th>\n",
       "      <td>218.081158</td>\n",
       "      <td>96.759853</td>\n",
       "    </tr>\n",
       "    <tr>\n",
       "      <th>min</th>\n",
       "      <td>-80995.000000</td>\n",
       "      <td>-11062.060000</td>\n",
       "    </tr>\n",
       "    <tr>\n",
       "      <th>25%</th>\n",
       "      <td>1.000000</td>\n",
       "      <td>1.250000</td>\n",
       "    </tr>\n",
       "    <tr>\n",
       "      <th>50%</th>\n",
       "      <td>3.000000</td>\n",
       "      <td>2.080000</td>\n",
       "    </tr>\n",
       "    <tr>\n",
       "      <th>75%</th>\n",
       "      <td>10.000000</td>\n",
       "      <td>4.130000</td>\n",
       "    </tr>\n",
       "    <tr>\n",
       "      <th>max</th>\n",
       "      <td>80995.000000</td>\n",
       "      <td>38970.000000</td>\n",
       "    </tr>\n",
       "  </tbody>\n",
       "</table>\n",
       "</div>"
      ],
      "text/plain": [
       "            Quantity      UnitPrice\n",
       "count  541909.000000  541909.000000\n",
       "mean        9.552250       4.611114\n",
       "std       218.081158      96.759853\n",
       "min    -80995.000000  -11062.060000\n",
       "25%         1.000000       1.250000\n",
       "50%         3.000000       2.080000\n",
       "75%        10.000000       4.130000\n",
       "max     80995.000000   38970.000000"
      ]
     },
     "execution_count": 10,
     "metadata": {},
     "output_type": "execute_result"
    }
   ],
   "source": [
    "# Check selected period in the dataset\n",
    "print(\"Period range is from\",data['InvoiceDate'].min(),\"to\", data['InvoiceDate'].max())\n",
    "\n",
    "# Statistics description of numeric variables\n",
    "data.describe()"
   ]
  },
  {
   "cell_type": "markdown",
   "metadata": {},
   "source": [
    "By inspecting the data, I found some noticeable points to discuss as below: \n",
    "\n",
    "- A number of order lines has `UnitPrice` being 0. Based on description, these seem to be invoices to clear damaged products or so, which means that they should be treated as cost, not revenue reduction. Some order lines have customer id and can possibly be promotional products added for free for several orders. These order lines add no value to revenue or customer analysis and thus can be removed.\n",
    "- Lots of order lines have the following `StockCode` and `Description`. Those with codes as `D` are discounts and treated as revenue reduction for customers and those with codes as `PADS` are product sales; thus, these lines can be kept. Remaining lines are not customer purchase and thus not revenue and should be removed before analysis. For example, bad debt adjustment is company's expense; carriage fees can be charged to customers first (those with positive quantities) and then paid to carriers (lines with negative quantities). Those that refer to customer purchase or returns have `StockCode` starting with an integer. <br/>\n",
    "\n",
    "|StockCode|Description|\n",
    "|---|---|\n",
    "|AMAZONFEE|AMAZON FEE|\n",
    "|B|Adjust bad debt|\n",
    "|BANK CHARGES|Bank Charges|\n",
    "|C2|CARRIAGE|\n",
    "|CRUK|CRUK Commission|\n",
    "|D|Discount|\n",
    "|DCGS...|Various description|\n",
    "|DOT|DOTCOM POSTAGE|\n",
    "|gift_0001_..|Voucher|\n",
    "|M|Manual|\n",
    "|PADS|PADS TO MATCH ALL CUSHIONS|\n",
    "|POST|POSTAGE|\n",
    "|S|SAMPLES|\n",
    "\n",
    "- Among order lines with negative quantities and non-zero `UnitPrice`, those with product codes are returns. As for analysis relating to revenue by period, returns should be netoff with the original order lines so that revenues would be reflected in the correct periods; and, returns for orders placed before the selected period should be removed. Regarding analysis in which customers' frequency of purchase is concerned, original orders would be counted while returns won't. However, within the scope of this analysis, the netoff cannot be done correctly. The reason is that there is no clue on which is the original purchase for the returns. A customer can make multiple purchases for 1 item in different months and then make one return - no clue which original purchase to netoff with the return. After removing order lines that are not revenues as mentioned above, total generated revenue for the whole period is about 9.7 million USD while the returned amount is 478,000 USD, accounting for insignificant 5%. Thus, I will keep the returns data."
   ]
  },
  {
   "cell_type": "code",
   "execution_count": 11,
   "metadata": {},
   "outputs": [
    {
     "data": {
      "text/plain": [
       "(536509, 9)"
      ]
     },
     "execution_count": 11,
     "metadata": {},
     "output_type": "execute_result"
    }
   ],
   "source": [
    "# Remove order lines that refer to cost\n",
    "## Remove lines with unit prices = 0\n",
    "data = data[data['UnitPrice']!=0]\n",
    "## Drop order lines that are not customer purchases\n",
    "digits = []\n",
    "for i in range(0,10):\n",
    "    digits.append(str(i))\n",
    "data = data[(data['StockCode']== 'PADS') | (data['StockCode']== 'D') | (data['StockCode'].str[0].isin(digits))]\n",
    "## Sort dataset with InvoiceDate in an ascending order\n",
    "data = data.sort_values('InvoiceDate').reset_index().drop('index',axis=1)\n",
    "\n",
    "# Check new data dimension\n",
    "data.shape"
   ]
  },
  {
   "cell_type": "markdown",
   "metadata": {},
   "source": [
    "### A/ Measure Important Ecommerce Metrics\n",
    "To understand more about the business and measure its performance, I would explore the dataset following important metrics of an ecommerce. (Important metrics can be found [here.](https://www.bigcommerce.com/blog/ecommerce-metrics))\n",
    "\n",
    "Revenue will be aggregated by month for some analysis. The latest date in the dataset is 2011/12/09, so December 2011 will be removed from the dataset because data is not complete for this month. Also, we can use 12 months from December 2010 to November 2011 to analyze 1-year performance."
   ]
  },
  {
   "cell_type": "code",
   "execution_count": 12,
   "metadata": {},
   "outputs": [],
   "source": [
    "# Add a column for revenue generated by each order line\n",
    "data['Revenue'] = data['UnitPrice']*data['Quantity']\n",
    "# Add a column for month-year value of invoice\n",
    "data['Period'] = data['InvoiceDate'].dt.to_period('M')"
   ]
  },
  {
   "cell_type": "code",
   "execution_count": 13,
   "metadata": {},
   "outputs": [
    {
     "data": {
      "text/html": [
       "<div>\n",
       "<style scoped>\n",
       "    .dataframe tbody tr th:only-of-type {\n",
       "        vertical-align: middle;\n",
       "    }\n",
       "\n",
       "    .dataframe tbody tr th {\n",
       "        vertical-align: top;\n",
       "    }\n",
       "\n",
       "    .dataframe thead th {\n",
       "        text-align: right;\n",
       "    }\n",
       "</style>\n",
       "<table border=\"1\" class=\"dataframe\">\n",
       "  <thead>\n",
       "    <tr style=\"text-align: right;\">\n",
       "      <th></th>\n",
       "      <th>InvoiceNo</th>\n",
       "      <th>StockCode</th>\n",
       "      <th>Description</th>\n",
       "      <th>Quantity</th>\n",
       "      <th>InvoiceDate</th>\n",
       "      <th>UnitPrice</th>\n",
       "      <th>CustomerID</th>\n",
       "      <th>Country</th>\n",
       "      <th>channel</th>\n",
       "      <th>Revenue</th>\n",
       "      <th>Period</th>\n",
       "    </tr>\n",
       "  </thead>\n",
       "  <tbody>\n",
       "    <tr>\n",
       "      <th>0</th>\n",
       "      <td>536365</td>\n",
       "      <td>85123A</td>\n",
       "      <td>WHITE HANGING HEART T-LIGHT HOLDER</td>\n",
       "      <td>6</td>\n",
       "      <td>2010-12-01 08:26:00</td>\n",
       "      <td>2.55</td>\n",
       "      <td>17850.0</td>\n",
       "      <td>United Kingdom</td>\n",
       "      <td>Email</td>\n",
       "      <td>15.30</td>\n",
       "      <td>2010-12</td>\n",
       "    </tr>\n",
       "    <tr>\n",
       "      <th>1</th>\n",
       "      <td>536365</td>\n",
       "      <td>71053</td>\n",
       "      <td>WHITE METAL LANTERN</td>\n",
       "      <td>6</td>\n",
       "      <td>2010-12-01 08:26:00</td>\n",
       "      <td>3.39</td>\n",
       "      <td>17850.0</td>\n",
       "      <td>United Kingdom</td>\n",
       "      <td>Email</td>\n",
       "      <td>20.34</td>\n",
       "      <td>2010-12</td>\n",
       "    </tr>\n",
       "  </tbody>\n",
       "</table>\n",
       "</div>"
      ],
      "text/plain": [
       "  InvoiceNo StockCode                         Description  Quantity  \\\n",
       "0    536365    85123A  WHITE HANGING HEART T-LIGHT HOLDER         6   \n",
       "1    536365     71053                 WHITE METAL LANTERN         6   \n",
       "\n",
       "          InvoiceDate  UnitPrice CustomerID         Country channel  Revenue  \\\n",
       "0 2010-12-01 08:26:00       2.55    17850.0  United Kingdom   Email    15.30   \n",
       "1 2010-12-01 08:26:00       3.39    17850.0  United Kingdom   Email    20.34   \n",
       "\n",
       "    Period  \n",
       "0  2010-12  \n",
       "1  2010-12  "
      ]
     },
     "execution_count": 13,
     "metadata": {},
     "output_type": "execute_result"
    }
   ],
   "source": [
    "# Copy the data and remove December 2011\n",
    "data_rev = data.copy()\n",
    "data_rev = data[data['Period'] < '2011-12']\n",
    "data_rev.head(2)"
   ]
  },
  {
   "cell_type": "markdown",
   "metadata": {},
   "source": [
    "#### Revenue Growth\n",
    "First, I would take a look into how much revenue has grown over time. To have a better view, I separated monthly purchase amounts and returns amounts."
   ]
  },
  {
   "cell_type": "code",
   "execution_count": null,
   "metadata": {},
   "outputs": [],
   "source": [
    "data_rev['Status'] = data_rev['Quantity'].apply(lambda x: 'Purchase' if x >=0 else 'Returns')\n",
    "data_rev[data_rev['StockCode']=='D'] = data_rev[data_rev['StockCode']=='D'].replace('Returns','Purchase')\n",
    "data_rev_month = pd.pivot_table(data_rev, values = 'Revenue', index = 'Period', columns = 'Status',aggfunc=np.sum\n",
    "                     ).reset_index().set_index('Period') \n",
    "data_rev_month['Returns'] = -data_rev_month['Returns']"
   ]
  },
  {
   "cell_type": "code",
   "execution_count": 20,
   "metadata": {},
   "outputs": [
    {
     "data": {
      "image/png": "[encoded data removed]",
      "text/plain": [
       "<Figure size 720x360 with 1 Axes>"
      ]
     },
     "metadata": {
      "needs_background": "light"
     },
     "output_type": "display_data"
    }
   ],
   "source": [
    "ax = data_rev_month[['Purchase','Returns']].plot(figsize=(10, 5))\n",
    "fig = ax.get_figure()\n",
    "fig.suptitle('Monthly Revenue for Purchase and Monthly Returns Amount')\n",
    "plt.show()"
   ]
  },
  {
   "cell_type": "markdown",
   "metadata": {},
   "source": [
    "It can be seen that there is minimal variations in monthly returns. In general, there was an upwards trend in revenue growth. However, monthly revenue dropped significantly in Feb and Apr before it bounced back in May, stabilized for two months and grew from Aug onwards. <br/>\n",
    "There are many possible reasons for the drop in Feb and Apr that need a more thorough analysis. That can stem from inventory shortage, discount policies on cheaper products to attract more customers, etc."
   ]
  },
  {
   "cell_type": "markdown",
   "metadata": {},
   "source": [
    "#### Returns Rate\n",
    "To measure the percentage of returns volumn per month. As can be seen from the revenue growth graph, returns remained stable over the time. Even though with this dataset, we couldn't identify the correct period that the returns belong to (the returns can be in March, but for Jan purchase, and thus would belong to Jan, not Mar), it's still reasonable for us to just use the raw returns data for analysis without modifying the period."
   ]
  },
  {
   "cell_type": "code",
   "execution_count": 21,
   "metadata": {},
   "outputs": [
    {
     "data": {
      "image/png": "[encoded data removed]",
      "text/plain": [
       "<Figure size 720x360 with 1 Axes>"
      ]
     },
     "metadata": {
      "needs_background": "light"
     },
     "output_type": "display_data"
    }
   ],
   "source": [
    "# Check returns rate per month\n",
    "data_rev_month['ReturnRate'] = data_rev_month['Returns']*100/(data_rev_month['Returns']+data_rev_month['Purchase'])\n",
    "ax = data_rev_month['ReturnRate'].plot(figsize=(10, 5))\n",
    "fig = ax.get_figure()\n",
    "fig.suptitle('Monthly Returns Rate')\n",
    "plt.show()"
   ]
  },
  {
   "cell_type": "markdown",
   "metadata": {},
   "source": [
    "In 2016, a [report](https://www.cnbc.com/2016/12/16/a-260-billion-ticking-time-bomb-the-costly-business-of-retail-returns.html) from CNBC stated that ecommerce returns rate was usually as high as 30%. This company's returns rate was low throughout the whole period. It peaked in Jan 2011 and dropped significantly in the following months. However, in order to indicate if this is a good figure or not, it's necessary to look in the company's returns policy. Also, in 2011, ecommerce has still not as developed as it was in 2016; thus, returns rate might have been a lot lower. "
   ]
  },
  {
   "cell_type": "markdown",
   "metadata": {},
   "source": [
    "#### Revenue Source\n",
    "This is to see which channel could drive most sales for the company."
   ]
  },
  {
   "cell_type": "code",
   "execution_count": 22,
   "metadata": {},
   "outputs": [
    {
     "data": {
      "image/png": "[encoded data removed]",
      "text/plain": [
       "<Figure size 720x360 with 1 Axes>"
      ]
     },
     "metadata": {
      "needs_background": "light"
     },
     "output_type": "display_data"
    }
   ],
   "source": [
    "data_rev_channel = pd.pivot_table(data_rev, values = 'Revenue', index = 'Period', columns = 'channel',aggfunc=np.sum\n",
    "                     ).reset_index().set_index('Period') \n",
    "ax = data_rev_channel.plot(figsize=(10, 5))\n",
    "fig = ax.get_figure()\n",
    "fig.suptitle('Monthly Revenue by Marketing Channels')\n",
    "plt.show()"
   ]
  },
  {
   "cell_type": "markdown",
   "metadata": {},
   "source": [
    "Based on the graph, it is noted that Direct sales and sales from Email grew significantly during the period while sales from paid social platforms and influencers remained stable. "
   ]
  },
  {
   "cell_type": "markdown",
   "metadata": {},
   "source": [
    "#### Revenue by Country\n",
    "This is to check what are top 10 countries with highest sales."
   ]
  },
  {
   "cell_type": "code",
   "execution_count": 23,
   "metadata": {},
   "outputs": [
    {
     "data": {
      "text/html": [
       "<div>\n",
       "<style scoped>\n",
       "    .dataframe tbody tr th:only-of-type {\n",
       "        vertical-align: middle;\n",
       "    }\n",
       "\n",
       "    .dataframe tbody tr th {\n",
       "        vertical-align: top;\n",
       "    }\n",
       "\n",
       "    .dataframe thead th {\n",
       "        text-align: right;\n",
       "    }\n",
       "</style>\n",
       "<table border=\"1\" class=\"dataframe\">\n",
       "  <thead>\n",
       "    <tr style=\"text-align: right;\">\n",
       "      <th></th>\n",
       "      <th>Country</th>\n",
       "      <th>Revenue</th>\n",
       "      <th>Percentage</th>\n",
       "    </tr>\n",
       "  </thead>\n",
       "  <tbody>\n",
       "    <tr>\n",
       "      <th>0</th>\n",
       "      <td>United Kingdom</td>\n",
       "      <td>7.897009e+06</td>\n",
       "      <td>84.502654</td>\n",
       "    </tr>\n",
       "    <tr>\n",
       "      <th>1</th>\n",
       "      <td>Netherlands</td>\n",
       "      <td>2.715451e+05</td>\n",
       "      <td>2.905693</td>\n",
       "    </tr>\n",
       "    <tr>\n",
       "      <th>2</th>\n",
       "      <td>EIRE</td>\n",
       "      <td>2.521059e+05</td>\n",
       "      <td>2.697682</td>\n",
       "    </tr>\n",
       "    <tr>\n",
       "      <th>3</th>\n",
       "      <td>Germany</td>\n",
       "      <td>1.939637e+05</td>\n",
       "      <td>2.075526</td>\n",
       "    </tr>\n",
       "    <tr>\n",
       "      <th>4</th>\n",
       "      <td>France</td>\n",
       "      <td>1.757721e+05</td>\n",
       "      <td>1.880865</td>\n",
       "    </tr>\n",
       "    <tr>\n",
       "      <th>5</th>\n",
       "      <td>Australia</td>\n",
       "      <td>1.369900e+05</td>\n",
       "      <td>1.465874</td>\n",
       "    </tr>\n",
       "    <tr>\n",
       "      <th>6</th>\n",
       "      <td>Switzerland</td>\n",
       "      <td>5.250535e+04</td>\n",
       "      <td>0.561838</td>\n",
       "    </tr>\n",
       "    <tr>\n",
       "      <th>7</th>\n",
       "      <td>Spain</td>\n",
       "      <td>5.152177e+04</td>\n",
       "      <td>0.551313</td>\n",
       "    </tr>\n",
       "    <tr>\n",
       "      <th>8</th>\n",
       "      <td>Japan</td>\n",
       "      <td>3.553672e+04</td>\n",
       "      <td>0.380264</td>\n",
       "    </tr>\n",
       "    <tr>\n",
       "      <th>9</th>\n",
       "      <td>Belgium</td>\n",
       "      <td>3.538253e+04</td>\n",
       "      <td>0.378614</td>\n",
       "    </tr>\n",
       "  </tbody>\n",
       "</table>\n",
       "</div>"
      ],
      "text/plain": [
       "          Country       Revenue  Percentage\n",
       "0  United Kingdom  7.897009e+06   84.502654\n",
       "1     Netherlands  2.715451e+05    2.905693\n",
       "2            EIRE  2.521059e+05    2.697682\n",
       "3         Germany  1.939637e+05    2.075526\n",
       "4          France  1.757721e+05    1.880865\n",
       "5       Australia  1.369900e+05    1.465874\n",
       "6     Switzerland  5.250535e+04    0.561838\n",
       "7           Spain  5.152177e+04    0.551313\n",
       "8           Japan  3.553672e+04    0.380264\n",
       "9         Belgium  3.538253e+04    0.378614"
      ]
     },
     "execution_count": 23,
     "metadata": {},
     "output_type": "execute_result"
    }
   ],
   "source": [
    "data_rev_country = data_rev.groupby(['Country'])['Revenue'].sum().reset_index().sort_values('Revenue',ascending=False).reset_index().drop('index',axis=1)\n",
    "data_rev_country['Percentage'] = data_rev_country['Revenue']*100/data_rev_country['Revenue'].sum()\n",
    "data_rev_country.iloc[:10]"
   ]
  },
  {
   "cell_type": "markdown",
   "metadata": {},
   "source": [
    "It's clear from the table that UK is the main country that the ecommerce targets. Revenue from other countries accounted for just a small percentage. Based on the summary, the company may do further analysis to see if they can do more promotion in countries like the Netherlands, EIRE - 2nd and 3rd on the list - to get more customers."
   ]
  },
  {
   "cell_type": "markdown",
   "metadata": {},
   "source": [
    "#### Average Order Value (AOV)\n",
    "To check monthly average value per order."
   ]
  },
  {
   "cell_type": "code",
   "execution_count": 26,
   "metadata": {},
   "outputs": [
    {
     "data": {
      "image/png": "[encoded data removed]",
      "text/plain": [
       "<Figure size 720x360 with 1 Axes>"
      ]
     },
     "metadata": {
      "needs_background": "light"
     },
     "output_type": "display_data"
    }
   ],
   "source": [
    "data_avg_order = pd.pivot_table(data_rev, values = ['Revenue','InvoiceNo'], index = 'Period',aggfunc={\n",
    "    'Revenue': np.sum, 'InvoiceNo': pd.Series.nunique}).reset_index().set_index('Period')\n",
    "data_avg_order['AvgValue'] = data_avg_order['Revenue']/data_avg_order['InvoiceNo']\n",
    "ax = data_avg_order['AvgValue'].plot(figsize=(10, 5))\n",
    "fig = ax.get_figure()\n",
    "fig.suptitle('Monthly Average Order Value')\n",
    "plt.show()"
   ]
  },
  {
   "cell_type": "markdown",
   "metadata": {},
   "source": [
    "The trend in monthly AOV did not go with that in monthly revenue. The figure in April was the lowest at 330 while the peak in Sep was 477. Some points can be drawn: In April, it seems that less customers placed orders and AOV decreased significantly, leading to a large drop in sales; in June and Jul, sales remained unchanged while AVO increased, possibly meaning that less customers placed orders; in Oct & Nov, AOV decreased while revenue still grew - this can be because the company offered lots of promotions in this period and could attract more customers or more orders from existing customers."
   ]
  },
  {
   "cell_type": "markdown",
   "metadata": {},
   "source": [
    "#### New Customer Ratio\n",
    "To see how well the ecommerce could attract new customers."
   ]
  },
  {
   "cell_type": "code",
   "execution_count": 27,
   "metadata": {},
   "outputs": [],
   "source": [
    "# Create a column to specify if purchase is from new or existing customer.\n",
    "# Note that this cannot be done for Dec 2010 because that's the first month in selected period.\n",
    "# Only invoice with customerid information can be used.\n",
    "data_rev_cus = data_rev.dropna(subset = ['CustomerID'])\n",
    "## Find first purchase period\n",
    "firstpurchase = data_rev_cus.groupby('CustomerID')['Period'].min().reset_index()\n",
    "firstpurchase.columns = ['CustomerID', 'FirstPurchasePeriod']\n",
    "## Merge with first purchase period\n",
    "data_rev_cus = pd.merge(data_rev_cus,firstpurchase, on = 'CustomerID')\n",
    "## Define UserType\n",
    "data_rev_cus['UserType'] = 'New'\n",
    "data_rev_cus.loc[data_rev_cus['Period']>data_rev_cus['FirstPurchasePeriod'],'UserType'] = 'Existing'"
   ]
  },
  {
   "cell_type": "code",
   "execution_count": 28,
   "metadata": {},
   "outputs": [
    {
     "data": {
      "image/png": "[encoded data removed]",
      "text/plain": [
       "<Figure size 720x360 with 1 Axes>"
      ]
     },
     "metadata": {
      "needs_background": "light"
     },
     "output_type": "display_data"
    }
   ],
   "source": [
    "# Count new customers and existing customers monthly and find out new customer ratio\n",
    "new_customer = pd.pivot_table(data_rev_cus, values = 'CustomerID', index = 'Period', columns = 'UserType',\n",
    "                              aggfunc=pd.Series.nunique)\n",
    "new_customer['NewCustomerRatio'] = new_customer['New']*100/(new_customer['New']+new_customer['Existing'])\n",
    "ax = new_customer['NewCustomerRatio'].plot(figsize=(10, 5))\n",
    "fig = ax.get_figure()\n",
    "fig.suptitle('Monthly New Customer Ratio')\n",
    "plt.show()"
   ]
  },
  {
   "cell_type": "markdown",
   "metadata": {},
   "source": [
    "Assuming all the customers in the first month of the selected period - Dec 2010 - are new, we have the new customer ratio throughout the whole period as above. The company couldn't well attract new customers. The ratio plummeted from the beginning till Aug and recovered slightly in Sep & Oct, but again decreased in Nov to just above the August low."
   ]
  },
  {
   "cell_type": "markdown",
   "metadata": {},
   "source": [
    "#### Customer Retention Rate\n",
    "To see how well the ecommerce could retain customers."
   ]
  },
  {
   "cell_type": "code",
   "execution_count": 29,
   "metadata": {},
   "outputs": [
    {
     "data": {
      "text/html": [
       "<div>\n",
       "<style scoped>\n",
       "    .dataframe tbody tr th:only-of-type {\n",
       "        vertical-align: middle;\n",
       "    }\n",
       "\n",
       "    .dataframe tbody tr th {\n",
       "        vertical-align: top;\n",
       "    }\n",
       "\n",
       "    .dataframe thead th {\n",
       "        text-align: right;\n",
       "    }\n",
       "</style>\n",
       "<table border=\"1\" class=\"dataframe\">\n",
       "  <thead>\n",
       "    <tr style=\"text-align: right;\">\n",
       "      <th>Period</th>\n",
       "      <th>2010-12</th>\n",
       "      <th>2011-01</th>\n",
       "      <th>2011-02</th>\n",
       "      <th>2011-03</th>\n",
       "      <th>2011-04</th>\n",
       "      <th>2011-05</th>\n",
       "      <th>2011-06</th>\n",
       "      <th>2011-07</th>\n",
       "      <th>2011-08</th>\n",
       "      <th>2011-09</th>\n",
       "      <th>2011-10</th>\n",
       "      <th>2011-11</th>\n",
       "    </tr>\n",
       "    <tr>\n",
       "      <th>CustomerID</th>\n",
       "      <th></th>\n",
       "      <th></th>\n",
       "      <th></th>\n",
       "      <th></th>\n",
       "      <th></th>\n",
       "      <th></th>\n",
       "      <th></th>\n",
       "      <th></th>\n",
       "      <th></th>\n",
       "      <th></th>\n",
       "      <th></th>\n",
       "      <th></th>\n",
       "    </tr>\n",
       "  </thead>\n",
       "  <tbody>\n",
       "    <tr>\n",
       "      <th>12346.0</th>\n",
       "      <td>0</td>\n",
       "      <td>1</td>\n",
       "      <td>0</td>\n",
       "      <td>0</td>\n",
       "      <td>0</td>\n",
       "      <td>0</td>\n",
       "      <td>0</td>\n",
       "      <td>0</td>\n",
       "      <td>0</td>\n",
       "      <td>0</td>\n",
       "      <td>0</td>\n",
       "      <td>0</td>\n",
       "    </tr>\n",
       "    <tr>\n",
       "      <th>12347.0</th>\n",
       "      <td>1</td>\n",
       "      <td>1</td>\n",
       "      <td>0</td>\n",
       "      <td>0</td>\n",
       "      <td>1</td>\n",
       "      <td>0</td>\n",
       "      <td>1</td>\n",
       "      <td>0</td>\n",
       "      <td>1</td>\n",
       "      <td>0</td>\n",
       "      <td>1</td>\n",
       "      <td>0</td>\n",
       "    </tr>\n",
       "  </tbody>\n",
       "</table>\n",
       "</div>"
      ],
      "text/plain": [
       "Period      2010-12  2011-01  2011-02  2011-03  2011-04  2011-05  2011-06  \\\n",
       "CustomerID                                                                  \n",
       "12346.0           0        1        0        0        0        0        0   \n",
       "12347.0           1        1        0        0        1        0        1   \n",
       "\n",
       "Period      2011-07  2011-08  2011-09  2011-10  2011-11  \n",
       "CustomerID                                               \n",
       "12346.0           0        0        0        0        0  \n",
       "12347.0           0        1        0        1        0  "
      ]
     },
     "execution_count": 29,
     "metadata": {},
     "output_type": "execute_result"
    }
   ],
   "source": [
    "# Group revenue by customer per period \n",
    "rev_by_customer = data_rev_cus.groupby(['CustomerID','Period'])['Revenue'].sum().astype(int).reset_index()\n",
    "# Check if customer placed order in each period\n",
    "monthly_purchase = pd.crosstab(rev_by_customer['CustomerID'],rev_by_customer['Period'])\n",
    "monthly_purchase.head(2)"
   ]
  },
  {
   "cell_type": "code",
   "execution_count": 30,
   "metadata": {},
   "outputs": [],
   "source": [
    "# Create a dataframe with monthly customers and retained customers to calculate retention rate\n",
    "# Monthly retained customers are those to place orders in the previous month\n",
    "periods = list(monthly_purchase.columns.astype(str))\n",
    "retention_rate = pd.DataFrame(index = periods[1:])\n",
    "## Total monthly customers\n",
    "for i in periods[1:]:\n",
    "    retention_rate.loc[i,'TotalMonthlyCustomers'] = monthly_purchase[i].sum()\n",
    "## Total retained customers\n",
    "for i in range(1,len(periods)):\n",
    "    j = i - 1\n",
    "    retention_rate.loc[periods[i],'TotalRetainedCustomers'] = monthly_purchase[(monthly_purchase[periods[j]]>0) & (monthly_purchase[periods[i]])][periods[i]].sum()\n",
    "## Retention Rate\n",
    "retention_rate['RetentionRate'] = retention_rate['TotalRetainedCustomers']*100/retention_rate['TotalMonthlyCustomers']"
   ]
  },
  {
   "cell_type": "code",
   "execution_count": 31,
   "metadata": {},
   "outputs": [
    {
     "data": {
      "image/png": "[encoded data removed]",
      "text/plain": [
       "<Figure size 720x360 with 1 Axes>"
      ]
     },
     "metadata": {
      "needs_background": "light"
     },
     "output_type": "display_data"
    }
   ],
   "source": [
    "ax = retention_rate['RetentionRate'].plot(figsize=(10, 5))\n",
    "fig = ax.get_figure()\n",
    "fig.suptitle('Monthly Customer Retention Ratio')\n",
    "plt.show()"
   ]
  },
  {
   "cell_type": "markdown",
   "metadata": {},
   "source": [
    "Customer retention rate of this company varied in the range between 34% and 44% throughout the period. WebRetailer [reported](https://www.webretailer.com/b/ecommerce-returns/) that ecommerce with 40% repeat purchasers generate 50% higher revenue than those with 10% repeat customers. Thus, the company should make more efforts to get customers to return."
   ]
  },
  {
   "cell_type": "markdown",
   "metadata": {},
   "source": [
    "#### Summary\n",
    "Overall, performance of the company in the first six months of 2011 was not so good, but could recover in the second half of the year. Based on the metrics, there are some insights as below:\n",
    "- Direct and emails were the main revenue sources of the company and made equal contribution. More email marketing efforts should thus be made.\n",
    "- UK was still the dominant market of the company with sales from this country accounting for 84%. Netherlands and EIRE came next; the company may do further analysis to see if they can do more promotion in these countries to get more potential sales.\n",
    "- Returns rate was low throughout the whole period; sales only grew from Aug. The company may review its returns policy to see if the low returns rate resulted from a strict return policy because a strict return policy may hurt the company's revenues.\n",
    "- Retention rate was good but new customer ratio decreased significantly. More efforts should be made to increase retention rate from over 30% to 40% and to increase customer ratio also."
   ]
  },
  {
   "cell_type": "markdown",
   "metadata": {},
   "source": [
    "### B/ Define Customer Clusters\n",
    "No companies treat all customers the same way. In order to drive more sales growth, the company must understand their customers to have appropriate approaches towards the customers. \n",
    "\n",
    "In this section, I would define different customer clusters to customize promotional strategies towards each customer group.\n",
    "\n",
    "**Approach:** I would use RFM analysis, which is a popular model for customer segmentation. More details on this model can be found [here](https://www.barilliance.com/rfm-analysis/). \"*SEGMENTATION based on RFM (Recency, Frequency, and Monetary) has been in use for over 50 years especially by direct marketers to target a subset of their customers, save marketing costs, and improve profits.*\"  <br/>\n",
    "Overall, RFM model stands for recency, frequency, and monetary value. I would define customer clusters based on their last purchase date, their frequency of purchase, and the total order value of their orders. I would first assign relevant scores for each criteria to all the customers.\n",
    "\n",
    "In this analysis, I would use the full dataset instead of a cutoff at November end as in section A. Order lines with no `customerID` would be removed. Also, note that the dataset includes returns, but recency and frequency applies to original purchases only, not including returns."
   ]
  },
  {
   "cell_type": "code",
   "execution_count": 32,
   "metadata": {},
   "outputs": [],
   "source": [
    "# Remove order lines with null CustomerID\n",
    "data = data.dropna(subset = ['CustomerID'])\n",
    "# Extract original purchase into a different dataframe\n",
    "purchases = data[data['Quantity'] >0]"
   ]
  },
  {
   "cell_type": "code",
   "execution_count": 33,
   "metadata": {},
   "outputs": [],
   "source": [
    "# Construct the user dataframe\n",
    "users_df = pd.DataFrame(purchases['CustomerID'].unique())\n",
    "users_df.columns = ['CustomerID']"
   ]
  },
  {
   "cell_type": "code",
   "execution_count": 34,
   "metadata": {},
   "outputs": [],
   "source": [
    "# Check recency - the duration from last purchase day\n",
    "last_purchase = purchases.groupby('CustomerID')['InvoiceDate'].max().reset_index()\n",
    "last_purchase.columns = ['CustomerID','LastPurchaseDate']\n",
    "last_purchase['Recency'] = (purchases['InvoiceDate'].max() - last_purchase['LastPurchaseDate']).dt.days\n",
    "users_df = pd.merge(users_df, last_purchase[['CustomerID','Recency']], on='CustomerID')"
   ]
  },
  {
   "cell_type": "code",
   "execution_count": 35,
   "metadata": {},
   "outputs": [],
   "source": [
    "# Check frequency - number of times a customer places orders within the period\n",
    "frequency = purchases.groupby('CustomerID')['InvoiceNo'].nunique().reset_index()\n",
    "frequency.columns = ['CustomerID','Frequency']\n",
    "users_df = pd.merge(users_df, frequency, on='CustomerID')"
   ]
  },
  {
   "cell_type": "code",
   "execution_count": 36,
   "metadata": {},
   "outputs": [
    {
     "data": {
      "text/html": [
       "<div>\n",
       "<style scoped>\n",
       "    .dataframe tbody tr th:only-of-type {\n",
       "        vertical-align: middle;\n",
       "    }\n",
       "\n",
       "    .dataframe tbody tr th {\n",
       "        vertical-align: top;\n",
       "    }\n",
       "\n",
       "    .dataframe thead th {\n",
       "        text-align: right;\n",
       "    }\n",
       "</style>\n",
       "<table border=\"1\" class=\"dataframe\">\n",
       "  <thead>\n",
       "    <tr style=\"text-align: right;\">\n",
       "      <th></th>\n",
       "      <th>CustomerID</th>\n",
       "      <th>Recency</th>\n",
       "      <th>Frequency</th>\n",
       "      <th>Revenue</th>\n",
       "    </tr>\n",
       "  </thead>\n",
       "  <tbody>\n",
       "    <tr>\n",
       "      <th>0</th>\n",
       "      <td>17850.0</td>\n",
       "      <td>371</td>\n",
       "      <td>34</td>\n",
       "      <td>5288.63</td>\n",
       "    </tr>\n",
       "    <tr>\n",
       "      <th>1</th>\n",
       "      <td>13047.0</td>\n",
       "      <td>56</td>\n",
       "      <td>9</td>\n",
       "      <td>3089.10</td>\n",
       "    </tr>\n",
       "    <tr>\n",
       "      <th>2</th>\n",
       "      <td>12583.0</td>\n",
       "      <td>2</td>\n",
       "      <td>15</td>\n",
       "      <td>6629.34</td>\n",
       "    </tr>\n",
       "  </tbody>\n",
       "</table>\n",
       "</div>"
      ],
      "text/plain": [
       "  CustomerID  Recency  Frequency  Revenue\n",
       "0    17850.0      371         34  5288.63\n",
       "1    13047.0       56          9  3089.10\n",
       "2    12583.0        2         15  6629.34"
      ]
     },
     "execution_count": 36,
     "metadata": {},
     "output_type": "execute_result"
    }
   ],
   "source": [
    "# Check monetary value - total order values throughout the whole period for each customer\n",
    "# Note this includes returns and discounts\n",
    "monetary = data.groupby('CustomerID')['Revenue'].sum().reset_index()\n",
    "users_df = pd.merge(users_df, monetary, on='CustomerID')\n",
    "users_df.head(3)"
   ]
  },
  {
   "cell_type": "markdown",
   "metadata": {},
   "source": [
    "#### Clustering Analysis\n",
    "##### Normalizing over the standard deviation \n",
    "Normalization is a statistical method that helps mathematical-based algorithms to interpret features with different magnitudes and distributions equally. I used StandardScaler() to normalize our dataset."
   ]
  },
  {
   "cell_type": "code",
   "execution_count": 41,
   "metadata": {},
   "outputs": [
    {
     "data": {
      "text/plain": [
       "array([[ 2.78835511,  3.89751338,  0.40760101],\n",
       "       [-0.35644059,  0.62273652,  0.1421217 ],\n",
       "       [-0.89554842,  1.40868297,  0.5694223 ],\n",
       "       ...,\n",
       "       [-0.91551538, -0.42519207, -0.18727577],\n",
       "       [-0.91551538, -0.42519207, -0.20328155],\n",
       "       [-0.91551538, -0.42519207, -0.13482636]])"
      ]
     },
     "execution_count": 41,
     "metadata": {},
     "output_type": "execute_result"
    }
   ],
   "source": [
    "from sklearn.preprocessing import StandardScaler\n",
    "\n",
    "users_df_cl = users_df.copy()\n",
    "\n",
    "X = users_df_cl.values[:,1:]\n",
    "X = np.nan_to_num(X)\n",
    "clus_data = StandardScaler().fit_transform(X)\n",
    "clus_data"
   ]
  },
  {
   "cell_type": "markdown",
   "metadata": {},
   "source": [
    "##### Modeling\n",
    "First, I used Elbow method to determine the appropriate number of clusters."
   ]
  },
  {
   "cell_type": "code",
   "execution_count": 42,
   "metadata": {},
   "outputs": [],
   "source": [
    "from sklearn.datasets.samples_generator import make_blobs\n",
    "from sklearn.cluster import KMeans\n",
    "\n",
    "wcss = []\n",
    "for i in range(1, 11):\n",
    "    kmeans = KMeans(n_clusters=i, init='k-means++', max_iter=1000, n_init=10, random_state=0)\n",
    "    kmeans.fit(clus_data)\n",
    "    wcss.append(kmeans.inertia_)"
   ]
  },
  {
   "cell_type": "code",
   "execution_count": 43,
   "metadata": {},
   "outputs": [
    {
     "data": {
      "image/png": "[encoded data removed]",
      "text/plain": [
       "<Figure size 432x288 with 1 Axes>"
      ]
     },
     "metadata": {
      "needs_background": "light"
     },
     "output_type": "display_data"
    }
   ],
   "source": [
    "plt.plot(range(1, 11), wcss)\n",
    "plt.title('Elbow Method')\n",
    "plt.xlabel('Number of clusters')\n",
    "plt.ylabel('WCSS')\n",
    "plt.show()"
   ]
  },
  {
   "cell_type": "markdown",
   "metadata": {},
   "source": [
    "Based on the graph, it would be most optimal to have 3 clusters for this customer dataset."
   ]
  },
  {
   "cell_type": "code",
   "execution_count": 44,
   "metadata": {},
   "outputs": [
    {
     "name": "stdout",
     "output_type": "stream",
     "text": [
      "[1 2 2 ... 2 2 2]\n"
     ]
    }
   ],
   "source": [
    "# Get the cluster labels\n",
    "clusterNum = 3\n",
    "k_means = KMeans(init = \"k-means++\", n_clusters = clusterNum, n_init = 12)\n",
    "k_means.fit(clus_data)\n",
    "labels = k_means.labels_\n",
    "print(labels)"
   ]
  },
  {
   "cell_type": "code",
   "execution_count": 45,
   "metadata": {},
   "outputs": [
    {
     "data": {
      "text/html": [
       "<div>\n",
       "<style scoped>\n",
       "    .dataframe tbody tr th:only-of-type {\n",
       "        vertical-align: middle;\n",
       "    }\n",
       "\n",
       "    .dataframe tbody tr th {\n",
       "        vertical-align: top;\n",
       "    }\n",
       "\n",
       "    .dataframe thead th {\n",
       "        text-align: right;\n",
       "    }\n",
       "</style>\n",
       "<table border=\"1\" class=\"dataframe\">\n",
       "  <thead>\n",
       "    <tr style=\"text-align: right;\">\n",
       "      <th></th>\n",
       "      <th>CustomerID</th>\n",
       "      <th>Recency</th>\n",
       "      <th>Frequency</th>\n",
       "      <th>Revenue</th>\n",
       "      <th>Cluster</th>\n",
       "    </tr>\n",
       "  </thead>\n",
       "  <tbody>\n",
       "    <tr>\n",
       "      <th>0</th>\n",
       "      <td>17850.0</td>\n",
       "      <td>371</td>\n",
       "      <td>34</td>\n",
       "      <td>5288.63</td>\n",
       "      <td>1</td>\n",
       "    </tr>\n",
       "    <tr>\n",
       "      <th>1</th>\n",
       "      <td>13047.0</td>\n",
       "      <td>56</td>\n",
       "      <td>9</td>\n",
       "      <td>3089.10</td>\n",
       "      <td>2</td>\n",
       "    </tr>\n",
       "  </tbody>\n",
       "</table>\n",
       "</div>"
      ],
      "text/plain": [
       "  CustomerID  Recency  Frequency  Revenue  Cluster\n",
       "0    17850.0      371         34  5288.63        1\n",
       "1    13047.0       56          9  3089.10        2"
      ]
     },
     "execution_count": 45,
     "metadata": {},
     "output_type": "execute_result"
    }
   ],
   "source": [
    "# Assign the labels to each row in dataframe.\n",
    "users_df_cl[\"Cluster\"] = labels\n",
    "users_df_cl.head(2)"
   ]
  },
  {
   "cell_type": "code",
   "execution_count": 46,
   "metadata": {},
   "outputs": [
    {
     "data": {
      "image/png": "[encoded data removed]",
      "text/plain": [
       "<Figure size 432x288 with 1 Axes>"
      ]
     },
     "metadata": {
      "needs_background": "light"
     },
     "output_type": "display_data"
    }
   ],
   "source": [
    "# Distribution of customers based on Revenue and Recency\n",
    "plt.scatter(X[:,0], X[:,2], c=labels.astype(np.float), alpha=0.5)\n",
    "plt.xlabel('Recency', fontsize=15)\n",
    "plt.ylabel('Revenue', fontsize=15)\n",
    "plt.show()"
   ]
  },
  {
   "cell_type": "markdown",
   "metadata": {},
   "source": [
    "Customers who recently placed orders generated high revenues for the company."
   ]
  },
  {
   "cell_type": "code",
   "execution_count": 47,
   "metadata": {},
   "outputs": [
    {
     "data": {
      "image/png": "[encoded data removed]",
      "text/plain": [
       "<Figure size 432x288 with 1 Axes>"
      ]
     },
     "metadata": {
      "needs_background": "light"
     },
     "output_type": "display_data"
    }
   ],
   "source": [
    "# Distribution of customers based on Revenue and Frequency\n",
    "plt.scatter(X[:,1], X[:,2], c=labels.astype(np.float), alpha=0.5)\n",
    "plt.xlabel('Frequency', fontsize=15)\n",
    "plt.ylabel('Revenue', fontsize=15)\n",
    "plt.show()"
   ]
  },
  {
   "cell_type": "markdown",
   "metadata": {},
   "source": [
    "No surprisingly, customers who frequently placed orders brought higher revenues to the company. However, there is not a linear relationship between frequency and revenues here."
   ]
  },
  {
   "cell_type": "markdown",
   "metadata": {},
   "source": [
    "##### Insights"
   ]
  },
  {
   "cell_type": "code",
   "execution_count": 48,
   "metadata": {},
   "outputs": [
    {
     "data": {
      "text/html": [
       "<div>\n",
       "<style scoped>\n",
       "    .dataframe tbody tr th:only-of-type {\n",
       "        vertical-align: middle;\n",
       "    }\n",
       "\n",
       "    .dataframe tbody tr th {\n",
       "        vertical-align: top;\n",
       "    }\n",
       "\n",
       "    .dataframe thead th {\n",
       "        text-align: right;\n",
       "    }\n",
       "</style>\n",
       "<table border=\"1\" class=\"dataframe\">\n",
       "  <thead>\n",
       "    <tr style=\"text-align: right;\">\n",
       "      <th></th>\n",
       "      <th>Recency</th>\n",
       "      <th>Frequency</th>\n",
       "      <th>Revenue</th>\n",
       "    </tr>\n",
       "    <tr>\n",
       "      <th>Cluster</th>\n",
       "      <th></th>\n",
       "      <th></th>\n",
       "      <th></th>\n",
       "    </tr>\n",
       "  </thead>\n",
       "  <tbody>\n",
       "    <tr>\n",
       "      <th>0</th>\n",
       "      <td>5.304348</td>\n",
       "      <td>72.521739</td>\n",
       "      <td>81237.517826</td>\n",
       "    </tr>\n",
       "    <tr>\n",
       "      <th>1</th>\n",
       "      <td>245.975161</td>\n",
       "      <td>1.571297</td>\n",
       "      <td>517.942448</td>\n",
       "    </tr>\n",
       "    <tr>\n",
       "      <th>2</th>\n",
       "      <td>40.305211</td>\n",
       "      <td>4.660670</td>\n",
       "      <td>1815.578081</td>\n",
       "    </tr>\n",
       "  </tbody>\n",
       "</table>\n",
       "</div>"
      ],
      "text/plain": [
       "            Recency  Frequency       Revenue\n",
       "Cluster                                     \n",
       "0          5.304348  72.521739  81237.517826\n",
       "1        245.975161   1.571297    517.942448\n",
       "2         40.305211   4.660670   1815.578081"
      ]
     },
     "execution_count": 48,
     "metadata": {},
     "output_type": "execute_result"
    }
   ],
   "source": [
    "# Check the centroid values by averaging the features in each cluster\n",
    "users_df_cl.groupby('Cluster').mean()"
   ]
  },
  {
   "cell_type": "markdown",
   "metadata": {},
   "source": [
    "By examining customers in each cluster and the centroid values of each cluster, I got three clusters as below:\n",
    "- *First cluster (cluster 0):* Recent customers who purchase frequently with total high value.\n",
    "- *Second cluster (cluster 1):* These customers purchase rarely and bring low purchase value to the company. They have made last purchase long time ago. \n",
    "- *Third cluster (cluster 2):* Customers in this group are relatively recent customers and purchase infrequently with average purchase values. "
   ]
  },
  {
   "cell_type": "markdown",
   "metadata": {},
   "source": [
    "#### Summary \n",
    "Clustering analysis resulted in a clear grouping of customers with three groups as below:\n",
    "- Frequent, recent customers who make total high purchase value.\n",
    "- Relatively recent customers who infrequently place orders with average purchase values.\n",
    "- Long-standing customers who rarely purchases and generate low total purchase values.\n",
    "\n",
    "Based on this grouping result, I suggest the company focus more promotions on the group of customers who tend to purchase frequently and bring high revenue to the company. With this grouping, the company knows how to drive promotion efforts on appropriate customers.\n",
    "\n",
    "This clustering analysis is based on RFM Model only and thus haas some limitations. It takes into account of customer behaviors and excludes other important variables that are equally or even more important like purchased products, promotions offered, demographic information, etc."
   ]
  },
  {
   "cell_type": "markdown",
   "metadata": {},
   "source": [
    "### C/ Predict Repurchase in 3 Months\n",
    "In addition to customer segmentation, to better understand customer behaviors to have appropriate approaches to drive more sales, I would build a model to predict if the customer would return to make purchase within the next 3 months.\n",
    "\n",
    "The dataset used for this prediction excludes order lines without `CustomerID` and used data for the whole period. Only order lines with positive quantities would be used. Thus, I would use the `purchases` dataframe extracted in the previous section."
   ]
  },
  {
   "cell_type": "markdown",
   "metadata": {},
   "source": [
    "### Feature Engineering\n",
    "To extract appropriate features for the prediction. \n",
    "\n",
    "With the information included in this dataset, some additional potential features to be extracted and considered in the maching learning model are:\n",
    "- Average Order Value\n",
    "- Number of Items Purchased\n",
    "- How Long the Customer has been Active\n",
    "- Month, WeekDay, and Hour of Purchase\n",
    "\n",
    "Days from the latest purchase is also a potential feature. However, this feature can only be applied to existing customers. The amount of data avaialble is limited; thus, this feature is not appropriate in this case."
   ]
  },
  {
   "cell_type": "code",
   "execution_count": 49,
   "metadata": {},
   "outputs": [
    {
     "data": {
      "text/html": [
       "<div>\n",
       "<style scoped>\n",
       "    .dataframe tbody tr th:only-of-type {\n",
       "        vertical-align: middle;\n",
       "    }\n",
       "\n",
       "    .dataframe tbody tr th {\n",
       "        vertical-align: top;\n",
       "    }\n",
       "\n",
       "    .dataframe thead th {\n",
       "        text-align: right;\n",
       "    }\n",
       "</style>\n",
       "<table border=\"1\" class=\"dataframe\">\n",
       "  <thead>\n",
       "    <tr style=\"text-align: right;\">\n",
       "      <th></th>\n",
       "      <th>InvoiceNo</th>\n",
       "      <th>NoItemsPurchased</th>\n",
       "      <th>AvgOrderValue</th>\n",
       "    </tr>\n",
       "  </thead>\n",
       "  <tbody>\n",
       "    <tr>\n",
       "      <th>0</th>\n",
       "      <td>536365</td>\n",
       "      <td>7</td>\n",
       "      <td>3.478</td>\n",
       "    </tr>\n",
       "    <tr>\n",
       "      <th>1</th>\n",
       "      <td>536366</td>\n",
       "      <td>2</td>\n",
       "      <td>1.850</td>\n",
       "    </tr>\n",
       "  </tbody>\n",
       "</table>\n",
       "</div>"
      ],
      "text/plain": [
       "  InvoiceNo  NoItemsPurchased  AvgOrderValue\n",
       "0    536365                 7          3.478\n",
       "1    536366                 2          1.850"
      ]
     },
     "execution_count": 49,
     "metadata": {},
     "output_type": "execute_result"
    }
   ],
   "source": [
    "# Construct a new dataframe\n",
    "df = pd.pivot_table(purchases, values = ['StockCode','Quantity','Revenue'], index = 'InvoiceNo',aggfunc={\n",
    "    'Revenue': np.sum, 'Quantity': np.sum, 'StockCode': pd.Series.nunique}).reset_index()\n",
    "df['AvgOrderValue'] = df['Revenue']/df['Quantity']\n",
    "df = df.drop(columns=['Quantity','Revenue'])\n",
    "df.columns = ['InvoiceNo','NoItemsPurchased','AvgOrderValue']\n",
    "df.head(2)"
   ]
  },
  {
   "cell_type": "code",
   "execution_count": 50,
   "metadata": {},
   "outputs": [],
   "source": [
    "# Add back InvoiceDate, CustomerID, Country, and channel\n",
    "df = pd.merge(df, purchases[['InvoiceNo','InvoiceDate','CustomerID','Country','channel','Period']], on = 'InvoiceNo',how='left')\n",
    "df = df.drop_duplicates(subset=['InvoiceNo'])\n",
    "\n",
    "# Extract weekday and month information of invoices\n",
    "df['Weekday'] = df['InvoiceDate'].dt.weekday \n",
    "df['Month'] = df['InvoiceDate'].dt.month\n",
    "df['Hour'] = df['InvoiceDate'].dt.hour"
   ]
  },
  {
   "cell_type": "code",
   "execution_count": 51,
   "metadata": {},
   "outputs": [],
   "source": [
    "# Add detail on how long the customer has been active\n",
    "## Find first purchase period\n",
    "firstpurchase = df.groupby('CustomerID')['InvoiceDate'].min().reset_index()\n",
    "firstpurchase.columns = ['CustomerID', 'FirstPurchaseDate']\n",
    "## Merge with first purchase period\n",
    "df = pd.merge(df,firstpurchase, on = 'CustomerID')\n",
    "## Add duration\n",
    "df['ActiveDays'] = (df['InvoiceDate'] - df['FirstPurchaseDate']).dt.days\n",
    "df = df.reset_index().drop('index',axis=1)"
   ]
  },
  {
   "cell_type": "code",
   "execution_count": 52,
   "metadata": {},
   "outputs": [],
   "source": [
    "# Add status of repurchase in 3 months for each invoice\n",
    "for i in df.index:\n",
    "    customerid = df.loc[i,'CustomerID']\n",
    "    start = df.loc[0,'InvoiceDate']\n",
    "    end = start + datetime.timedelta(days=90)\n",
    "    temp = df[(df['CustomerID']==customerid) & (df['InvoiceDate']>start) & (df['InvoiceDate']<=end)]\n",
    "    if temp.shape[0] > 0:\n",
    "        df.loc[i,'RepurchaseStatus'] = 1 # customer did repurchase in 3 months\n",
    "    else:\n",
    "        df.loc[i,'RepurchaseStatus'] = 0"
   ]
  },
  {
   "cell_type": "code",
   "execution_count": 53,
   "metadata": {},
   "outputs": [],
   "source": [
    "# The last 3 months is not included in the final dataset used for modeling because there is insufficient time to\n",
    "# determine if the customer repurchased or not \n",
    "cutoff_date = df['InvoiceDate'].max() - datetime.timedelta(days=90)\n",
    "df = df[df['InvoiceDate'] <= cutoff_date]"
   ]
  },
  {
   "cell_type": "markdown",
   "metadata": {},
   "source": [
    "#### Modeling\n",
    "##### Prepare dataset for modeling and split train-test set"
   ]
  },
  {
   "cell_type": "code",
   "execution_count": 54,
   "metadata": {},
   "outputs": [
    {
     "data": {
      "text/html": [
       "<div>\n",
       "<style scoped>\n",
       "    .dataframe tbody tr th:only-of-type {\n",
       "        vertical-align: middle;\n",
       "    }\n",
       "\n",
       "    .dataframe tbody tr th {\n",
       "        vertical-align: top;\n",
       "    }\n",
       "\n",
       "    .dataframe thead th {\n",
       "        text-align: right;\n",
       "    }\n",
       "</style>\n",
       "<table border=\"1\" class=\"dataframe\">\n",
       "  <thead>\n",
       "    <tr style=\"text-align: right;\">\n",
       "      <th></th>\n",
       "      <th>NoItemsPurchased</th>\n",
       "      <th>AvgOrderValue</th>\n",
       "      <th>Weekday</th>\n",
       "      <th>Month</th>\n",
       "      <th>Hour</th>\n",
       "      <th>ActiveDays</th>\n",
       "      <th>RepurchaseStatus</th>\n",
       "      <th>Direct</th>\n",
       "      <th>Email</th>\n",
       "      <th>Influencer</th>\n",
       "      <th>Paid Social</th>\n",
       "    </tr>\n",
       "  </thead>\n",
       "  <tbody>\n",
       "    <tr>\n",
       "      <th>0</th>\n",
       "      <td>7</td>\n",
       "      <td>3.478</td>\n",
       "      <td>2</td>\n",
       "      <td>12</td>\n",
       "      <td>8</td>\n",
       "      <td>0</td>\n",
       "      <td>1.0</td>\n",
       "      <td>0</td>\n",
       "      <td>1</td>\n",
       "      <td>0</td>\n",
       "      <td>0</td>\n",
       "    </tr>\n",
       "    <tr>\n",
       "      <th>1</th>\n",
       "      <td>2</td>\n",
       "      <td>1.850</td>\n",
       "      <td>2</td>\n",
       "      <td>12</td>\n",
       "      <td>8</td>\n",
       "      <td>0</td>\n",
       "      <td>1.0</td>\n",
       "      <td>1</td>\n",
       "      <td>0</td>\n",
       "      <td>0</td>\n",
       "      <td>0</td>\n",
       "    </tr>\n",
       "    <tr>\n",
       "      <th>2</th>\n",
       "      <td>2</td>\n",
       "      <td>1.850</td>\n",
       "      <td>2</td>\n",
       "      <td>12</td>\n",
       "      <td>9</td>\n",
       "      <td>0</td>\n",
       "      <td>1.0</td>\n",
       "      <td>0</td>\n",
       "      <td>0</td>\n",
       "      <td>0</td>\n",
       "      <td>1</td>\n",
       "    </tr>\n",
       "  </tbody>\n",
       "</table>\n",
       "</div>"
      ],
      "text/plain": [
       "   NoItemsPurchased  AvgOrderValue  Weekday  Month  Hour  ActiveDays  \\\n",
       "0                 7          3.478        2     12     8           0   \n",
       "1                 2          1.850        2     12     8           0   \n",
       "2                 2          1.850        2     12     9           0   \n",
       "\n",
       "   RepurchaseStatus  Direct  Email  Influencer  Paid Social  \n",
       "0               1.0       0      1           0            0  \n",
       "1               1.0       1      0           0            0  \n",
       "2               1.0       0      0           0            1  "
      ]
     },
     "execution_count": 54,
     "metadata": {},
     "output_type": "execute_result"
    }
   ],
   "source": [
    "# Final dataset to use for modeling\n",
    "df_m = df.drop(columns=['InvoiceNo','InvoiceDate','CustomerID','Period','FirstPurchaseDate','Country']).reset_index().drop('index',axis=1)\n",
    "# Convert categorical variable 'channel' to number\n",
    "df_channel = pd.get_dummies(df_m['channel'])\n",
    "# Merge dummy variables back to original dataframe\n",
    "df_m = pd.concat([df_m,df_channel],axis=1).drop('channel',axis=1)\n",
    "df_m.head(3)"
   ]
  },
  {
   "cell_type": "code",
   "execution_count": 55,
   "metadata": {},
   "outputs": [],
   "source": [
    "# Split train and test set by 80-20\n",
    "X, y = df_m.drop('RepurchaseStatus',axis=1), df_m['RepurchaseStatus']\n",
    "X_train, X_test, y_train, y_test = train_test_split(X, y, test_size=0.2, random_state=123)"
   ]
  },
  {
   "cell_type": "markdown",
   "metadata": {},
   "source": [
    "##### Check different models\n",
    "One possible method is to try different models and select the one with best performance. "
   ]
  },
  {
   "cell_type": "code",
   "execution_count": 56,
   "metadata": {},
   "outputs": [],
   "source": [
    "models_list = []\n",
    "models_list.append((\"XGB\",xgb.XGBClassifier()))\n",
    "models_list.append((\"SVC\",SVC()))\n",
    "models_list.append((\"LogR\",LogisticRegression()))\n",
    "models_list.append((\"NB\",GaussianNB()))\n",
    "models_list.append((\"RForest\",RandomForestClassifier()))\n",
    "models_list.append((\"DTree\",DecisionTreeClassifier()))\n",
    "models_list.append((\"kNN\",KNeighborsClassifier()))"
   ]
  },
  {
   "cell_type": "code",
   "execution_count": null,
   "metadata": {},
   "outputs": [],
   "source": [
    "# Use k-Fold Cross Validation with k = 5\n",
    "result = []\n",
    "for model, function in models_list:\n",
    "    kfold = KFold(n_splits=5, random_state=22)\n",
    "    cv_result = cross_val_score(function,X_train,y_train, cv = kfold,scoring = \"accuracy\")\n",
    "    result.append((model,cv_result))"
   ]
  },
  {
   "cell_type": "code",
   "execution_count": 58,
   "metadata": {},
   "outputs": [
    {
     "name": "stdout",
     "output_type": "stream",
     "text": [
      "('XGB', array([0.98784997, 0.98044397, 0.9820296 , 0.98678647, 0.9846723 ]))\n",
      "('SVC', array([0.73798204, 0.72251586, 0.7346723 , 0.71934461, 0.72410148]))\n",
      "('LogR', array([0.71526677, 0.71035941, 0.70137421, 0.6987315 , 0.71881607]))\n",
      "('NB', array([0.74115161, 0.72410148, 0.73995772, 0.71987315, 0.7256871 ]))\n",
      "('RForest', array([0.98520866, 0.98097252, 0.98255814, 0.98414376, 0.98044397]))\n",
      "('DTree', array([0.98256735, 0.97727273, 0.98150106, 0.98731501, 0.98308668]))\n",
      "('kNN', array([0.91600634, 0.91701903, 0.92124736, 0.9244186 , 0.91701903]))\n"
     ]
    }
   ],
   "source": [
    "for i in result:\n",
    "    print(i)"
   ]
  },
  {
   "cell_type": "markdown",
   "metadata": {},
   "source": [
    "With this result, I noted that XGBoost, Random Forest, Decision Trees, and kNN gave best performance, of which XGBoost was slightly better. Thus, I would continue with XGBoost.\n",
    "\n",
    "##### XGBoost Modeling\n",
    "Test XGBoost model performance on both train and test set."
   ]
  },
  {
   "cell_type": "code",
   "execution_count": 59,
   "metadata": {},
   "outputs": [
    {
     "name": "stdout",
     "output_type": "stream",
     "text": [
      "Accuracy of XGB model on train set: 0.99\n",
      "Accuracy of XGB model on test set: 0.98\n"
     ]
    }
   ],
   "source": [
    "xgb_model = xgb.XGBClassifier().fit(X_train, y_train)\n",
    "\n",
    "print('Accuracy of XGB model on train set: {:.2f}'\n",
    "       .format(xgb_model.score(X_train, y_train)))\n",
    "print('Accuracy of XGB model on test set: {:.2f}'\n",
    "       .format(xgb_model.score(X_test, y_test)))"
   ]
  },
  {
   "cell_type": "code",
   "execution_count": 60,
   "metadata": {},
   "outputs": [
    {
     "name": "stdout",
     "output_type": "stream",
     "text": [
      "Confusion Matrix:\n",
      "[[ 617   29]\n",
      " [  19 1701]]\n"
     ]
    }
   ],
   "source": [
    "# Check confusion matrix\n",
    "y_pred = xgb_model.predict(X_test)\n",
    "print(\"Confusion Matrix:\")\n",
    "conf_mat = confusion_matrix(y_test, y_pred)\n",
    "print(conf_mat)"
   ]
  },
  {
   "cell_type": "markdown",
   "metadata": {},
   "source": [
    "Accuracy levels on train and test set are 99% and 98% respectively. The model is well-balanced and no overfitting nor underfitting issue happened. \n",
    "\n",
    "By examining the confustion matrix, it's noted that the model does not tend to misclassify any class more than the other one. Misclassification of two classes is similar."
   ]
  },
  {
   "cell_type": "markdown",
   "metadata": {},
   "source": [
    "#### Summary\n",
    "The model to predict customer repurchase within 3 months has a good performance. Dataset utilized is list of invoices over the period between Dec 2010 to around Sep 2011. The variables included in the model are order details, `Number of Items Purchased`, `Average Order Value`, time when order is placed, namely `WeekDay`, `Month`, `Hour`, customer information `Number of Days from Customer's First Order`, channels that direct the sales, namely `Direct`, `Email`, `Influencer`, `PaidSocial`."
   ]
  },
  {
   "cell_type": "markdown",
   "metadata": {},
   "source": [
    "### Conclusion\n",
    "With the result from customer segmentation, and the prediction on customers' repurchase within three months, the company can know which customers to focus on and how much discounts or promotional expense to spend on individual customers. By focusing on right target customers, the company can drive more sales and maximize marketing ROI at the same time."
   ]
  }
 ],
 "metadata": {
  "kernelspec": {
   "display_name": "Python 3",
   "language": "python",
   "name": "python3"
  },
  "language_info": {
   "codemirror_mode": {
    "name": "ipython",
    "version": 3
   },
   "file_extension": ".py",
   "mimetype": "text/x-python",
   "name": "python",
   "nbconvert_exporter": "python",
   "pygments_lexer": "ipython3",
   "version": "3.7.6"
  }
 },
 "nbformat": 4,
 "nbformat_minor": 4
}
